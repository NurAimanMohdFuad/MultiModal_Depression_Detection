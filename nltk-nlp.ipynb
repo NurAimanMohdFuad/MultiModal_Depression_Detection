{
 "cells": [
  {
   "cell_type": "code",
   "execution_count": 1,
   "id": "9684e8cf",
   "metadata": {},
   "outputs": [
    {
     "data": {
      "text/plain": [
       "'C:\\\\Users\\\\Nur Aiman\\\\Downloads'"
      ]
     },
     "execution_count": 1,
     "metadata": {},
     "output_type": "execute_result"
    }
   ],
   "source": [
    "pwd"
   ]
  },
  {
   "cell_type": "code",
   "execution_count": 15,
   "id": "cf6b1d62",
   "metadata": {},
   "outputs": [],
   "source": [
    "import nltk\n",
    "import pandas as pd\n",
    "import numpy as np\n",
    "import re\n",
    "import sys\n",
    "import csv\n",
    "import itertools\n",
    "import datetime\n",
    "import matplotlib.pyplot as plt\n",
    "import pprint\n",
    "import warnings\n",
    "warnings.filterwarnings('ignore')\n",
    "from matplotlib import rcParams\n",
    "from nltk.tokenize import word_tokenize\n",
    "from time import time\n",
    "\n",
    "from sklearn.feature_extraction.text import CountVectorizer\n",
    "from sklearn.naive_bayes import MultinomialNB\n",
    "from sklearn.feature_extraction.text import TfidfTransformer\n",
    "from sklearn.ensemble import RandomForestClassifier, ExtraTreesClassifier,AdaBoostClassifier\n",
    "from sklearn.tree import DecisionTreeClassifier\n",
    "from sklearn.linear_model import LogisticRegression\n",
    "\n",
    "from sklearn.model_selection import cross_val_score\n",
    "from sklearn.metrics import classification_report, confusion_matrix\n",
    "from sklearn.metrics import roc_auc_score, accuracy_score"
   ]
  },
  {
   "cell_type": "code",
   "execution_count": 20,
   "id": "e43248b1",
   "metadata": {},
   "outputs": [
    {
     "name": "stdout",
     "output_type": "stream",
     "text": [
      "There are 83 rows and 3 columns in the training set\n",
      "There are 83 rows and 3 columns in the training set after removing empty rows\n"
     ]
    },
    {
     "data": {
      "text/html": [
       "<div>\n",
       "<style scoped>\n",
       "    .dataframe tbody tr th:only-of-type {\n",
       "        vertical-align: middle;\n",
       "    }\n",
       "\n",
       "    .dataframe tbody tr th {\n",
       "        vertical-align: top;\n",
       "    }\n",
       "\n",
       "    .dataframe thead th {\n",
       "        text-align: right;\n",
       "    }\n",
       "</style>\n",
       "<table border=\"1\" class=\"dataframe\">\n",
       "  <thead>\n",
       "    <tr style=\"text-align: right;\">\n",
       "      <th></th>\n",
       "      <th>ID</th>\n",
       "      <th>speech</th>\n",
       "      <th>label\\r</th>\n",
       "    </tr>\n",
       "  </thead>\n",
       "  <tbody>\n",
       "    <tr>\n",
       "      <th>0</th>\n",
       "      <td>006q1</td>\n",
       "      <td>Perasaan saya tiga hari ni rasa macam penat ra...</td>\n",
       "      <td>1</td>\n",
       "    </tr>\n",
       "    <tr>\n",
       "      <th>1</th>\n",
       "      <td>110q1</td>\n",
       "      <td>Sejujurnya saya berasa diri saya kosong saya t...</td>\n",
       "      <td>1</td>\n",
       "    </tr>\n",
       "    <tr>\n",
       "      <th>2</th>\n",
       "      <td>113q1</td>\n",
       "      <td>assalamualaikum saya 113. 3 hari lepas eh sepa...</td>\n",
       "      <td>1</td>\n",
       "    </tr>\n",
       "    <tr>\n",
       "      <th>3</th>\n",
       "      <td>136q1</td>\n",
       "      <td>Bismillahiroh Manirrohim Assalamualaikum wbt k...</td>\n",
       "      <td>1</td>\n",
       "    </tr>\n",
       "    <tr>\n",
       "      <th>4</th>\n",
       "      <td>139q1</td>\n",
       "      <td>Perasaan saya 3 hari ni saya malas nak buat ap...</td>\n",
       "      <td>1</td>\n",
       "    </tr>\n",
       "  </tbody>\n",
       "</table>\n",
       "</div>"
      ],
      "text/plain": [
       "      ID                                             speech  label\\r\n",
       "0  006q1  Perasaan saya tiga hari ni rasa macam penat ra...        1\n",
       "1  110q1  Sejujurnya saya berasa diri saya kosong saya t...        1\n",
       "2  113q1  assalamualaikum saya 113. 3 hari lepas eh sepa...        1\n",
       "3  136q1  Bismillahiroh Manirrohim Assalamualaikum wbt k...        1\n",
       "4  139q1  Perasaan saya 3 hari ni saya malas nak buat ap...        1"
      ]
     },
     "execution_count": 20,
     "metadata": {},
     "output_type": "execute_result"
    }
   ],
   "source": [
    "train = pd.read_csv('train (1).csv', header=0, lineterminator='\\n')\n",
    "train = train.applymap(lambda x: x.strip() if isinstance(x, str) else x)\n",
    "\n",
    "nRow, nCol = train.shape\n",
    "print(f'There are {nRow} rows and {nCol} columns in the training set')\n",
    "\n",
    "# Removing empty rows from csv \n",
    "train.dropna(axis=0, how='all',inplace=True)\n",
    "nRow, nCol = train.shape\n",
    "print(f'There are {nRow} rows and {nCol} columns in the training set after removing empty rows')\n",
    "\n",
    "train.head()"
   ]
  },
  {
   "cell_type": "code",
   "execution_count": 21,
   "id": "09497dd1",
   "metadata": {},
   "outputs": [
    {
     "name": "stdout",
     "output_type": "stream",
     "text": [
      "There are 21 rows and 3 columns in the testing set\n",
      "There are 21 rows and 3 columns in the testing set after removing empty rows\n"
     ]
    },
    {
     "data": {
      "text/html": [
       "<div>\n",
       "<style scoped>\n",
       "    .dataframe tbody tr th:only-of-type {\n",
       "        vertical-align: middle;\n",
       "    }\n",
       "\n",
       "    .dataframe tbody tr th {\n",
       "        vertical-align: top;\n",
       "    }\n",
       "\n",
       "    .dataframe thead th {\n",
       "        text-align: right;\n",
       "    }\n",
       "</style>\n",
       "<table border=\"1\" class=\"dataframe\">\n",
       "  <thead>\n",
       "    <tr style=\"text-align: right;\">\n",
       "      <th></th>\n",
       "      <th>ID</th>\n",
       "      <th>speech</th>\n",
       "      <th>label\\r</th>\n",
       "    </tr>\n",
       "  </thead>\n",
       "  <tbody>\n",
       "    <tr>\n",
       "      <th>0</th>\n",
       "      <td>212q</td>\n",
       "      <td>Okay apa yang bermain dalam fikiran saya sejak...</td>\n",
       "      <td>1</td>\n",
       "    </tr>\n",
       "    <tr>\n",
       "      <th>1</th>\n",
       "      <td>219q</td>\n",
       "      <td>Hari isnin lepas saya pergi ke hospital dan sa...</td>\n",
       "      <td>1</td>\n",
       "    </tr>\n",
       "    <tr>\n",
       "      <th>2</th>\n",
       "      <td>MH007Q</td>\n",
       "      <td>Dalam 3 hari yang lepas,  saya banyak meluangk...</td>\n",
       "      <td>0</td>\n",
       "    </tr>\n",
       "    <tr>\n",
       "      <th>3</th>\n",
       "      <td>MH008Q</td>\n",
       "      <td>Dalam 3 hari lepas ni, saya banyak berada di r...</td>\n",
       "      <td>0</td>\n",
       "    </tr>\n",
       "    <tr>\n",
       "      <th>4</th>\n",
       "      <td>RokuraQ</td>\n",
       "      <td>Apa yang saya rasa sepanjang 3 hari yang lepas...</td>\n",
       "      <td>0</td>\n",
       "    </tr>\n",
       "  </tbody>\n",
       "</table>\n",
       "</div>"
      ],
      "text/plain": [
       "        ID                                             speech  label\\r\n",
       "0     212q  Okay apa yang bermain dalam fikiran saya sejak...        1\n",
       "1     219q  Hari isnin lepas saya pergi ke hospital dan sa...        1\n",
       "2   MH007Q  Dalam 3 hari yang lepas,  saya banyak meluangk...        0\n",
       "3   MH008Q  Dalam 3 hari lepas ni, saya banyak berada di r...        0\n",
       "4  RokuraQ  Apa yang saya rasa sepanjang 3 hari yang lepas...        0"
      ]
     },
     "execution_count": 21,
     "metadata": {},
     "output_type": "execute_result"
    }
   ],
   "source": [
    "test = pd.read_csv('test (1).csv', header=0, lineterminator='\\n')\n",
    "test = test.applymap(lambda x: x.strip() if isinstance(x, str) else x)\n",
    "\n",
    "nRow, nCol = test.shape\n",
    "print(f'There are {nRow} rows and {nCol} columns in the testing set')\n",
    "\n",
    "# Removing empty rows from csv \n",
    "test.dropna(axis=0, how='all',inplace=True)\n",
    "nRow, nCol = test.shape\n",
    "print(f'There are {nRow} rows and {nCol} columns in the testing set after removing empty rows')\n",
    "\n",
    "test.head()"
   ]
  },
  {
   "cell_type": "code",
   "execution_count": 22,
   "id": "b26c1163",
   "metadata": {},
   "outputs": [],
   "source": [
    "X_train = train.drop(['label\\r','ID'],axis=1)\n",
    "y_train = train['label\\r']\n",
    "\n",
    "X_test = test.drop(['label\\r','ID'],axis=1)\n",
    "y_test = test['label\\r']\n",
    "\n",
    "# X_test.head()"
   ]
  },
  {
   "cell_type": "markdown",
   "id": "48d023f3",
   "metadata": {},
   "source": [
    "### NOISE CLEANING"
   ]
  },
  {
   "cell_type": "code",
   "execution_count": 23,
   "id": "450963a0",
   "metadata": {},
   "outputs": [
    {
     "data": {
      "text/html": [
       "<div>\n",
       "<style scoped>\n",
       "    .dataframe tbody tr th:only-of-type {\n",
       "        vertical-align: middle;\n",
       "    }\n",
       "\n",
       "    .dataframe tbody tr th {\n",
       "        vertical-align: top;\n",
       "    }\n",
       "\n",
       "    .dataframe thead th {\n",
       "        text-align: right;\n",
       "    }\n",
       "</style>\n",
       "<table border=\"1\" class=\"dataframe\">\n",
       "  <thead>\n",
       "    <tr style=\"text-align: right;\">\n",
       "      <th></th>\n",
       "      <th>speech</th>\n",
       "    </tr>\n",
       "  </thead>\n",
       "  <tbody>\n",
       "    <tr>\n",
       "      <th>0</th>\n",
       "      <td>okay apa yang bermain dalam fikiran saya sejak...</td>\n",
       "    </tr>\n",
       "    <tr>\n",
       "      <th>1</th>\n",
       "      <td>hari isnin lepas saya pergi ke hospital dan sa...</td>\n",
       "    </tr>\n",
       "    <tr>\n",
       "      <th>2</th>\n",
       "      <td>dalam  hari yang lepas  saya banyak meluangkan...</td>\n",
       "    </tr>\n",
       "    <tr>\n",
       "      <th>3</th>\n",
       "      <td>dalam  hari lepas ni saya banyak berada di rum...</td>\n",
       "    </tr>\n",
       "    <tr>\n",
       "      <th>4</th>\n",
       "      <td>apa yang saya rasa sepanjang  hari yang lepas ...</td>\n",
       "    </tr>\n",
       "  </tbody>\n",
       "</table>\n",
       "</div>"
      ],
      "text/plain": [
       "                                              speech\n",
       "0  okay apa yang bermain dalam fikiran saya sejak...\n",
       "1  hari isnin lepas saya pergi ke hospital dan sa...\n",
       "2  dalam  hari yang lepas  saya banyak meluangkan...\n",
       "3  dalam  hari lepas ni saya banyak berada di rum...\n",
       "4  apa yang saya rasa sepanjang  hari yang lepas ..."
      ]
     },
     "execution_count": 23,
     "metadata": {},
     "output_type": "execute_result"
    }
   ],
   "source": [
    "import regex as re\n",
    "\n",
    "X_train['speech'] = X_train['speech'].str.lower()\n",
    "X_train['speech'] =X_train['speech'].apply(lambda x: re.sub('[^\\w\\d\\s\\']+', '', x))\n",
    "X_train['speech'] = X_train['speech'].apply(lambda x: re.sub('\\w*\\d\\w*', '', x))\n",
    "\n",
    "X_test['speech'] = X_test['speech'].str.lower()\n",
    "X_test['speech'] =X_test['speech'].apply(lambda x: re.sub('[^\\w\\d\\s\\']+', '', x))\n",
    "X_test['speech'] = X_test['speech'].apply(lambda x: re.sub('\\w*\\d\\w*', '', x))\n",
    "\n",
    "X_test.head()"
   ]
  },
  {
   "cell_type": "markdown",
   "id": "9e878a82",
   "metadata": {},
   "source": [
    "### TOKENIZATION"
   ]
  },
  {
   "cell_type": "code",
   "execution_count": 24,
   "id": "d0091d97",
   "metadata": {},
   "outputs": [
    {
     "data": {
      "text/html": [
       "<div>\n",
       "<style scoped>\n",
       "    .dataframe tbody tr th:only-of-type {\n",
       "        vertical-align: middle;\n",
       "    }\n",
       "\n",
       "    .dataframe tbody tr th {\n",
       "        vertical-align: top;\n",
       "    }\n",
       "\n",
       "    .dataframe thead th {\n",
       "        text-align: right;\n",
       "    }\n",
       "</style>\n",
       "<table border=\"1\" class=\"dataframe\">\n",
       "  <thead>\n",
       "    <tr style=\"text-align: right;\">\n",
       "      <th></th>\n",
       "      <th>speech</th>\n",
       "      <th>speech_tokenize</th>\n",
       "    </tr>\n",
       "  </thead>\n",
       "  <tbody>\n",
       "    <tr>\n",
       "      <th>0</th>\n",
       "      <td>perasaan saya tiga hari ni rasa macam penat ra...</td>\n",
       "      <td>[perasaan, saya, tiga, hari, ni, rasa, macam, ...</td>\n",
       "    </tr>\n",
       "    <tr>\n",
       "      <th>1</th>\n",
       "      <td>sejujurnya saya berasa diri saya kosong saya t...</td>\n",
       "      <td>[sejujurnya, saya, berasa, diri, saya, kosong,...</td>\n",
       "    </tr>\n",
       "    <tr>\n",
       "      <th>2</th>\n",
       "      <td>assalamualaikum saya   hari lepas eh sepanjang...</td>\n",
       "      <td>[assalamualaikum, saya, hari, lepas, eh, sepan...</td>\n",
       "    </tr>\n",
       "    <tr>\n",
       "      <th>3</th>\n",
       "      <td>bismillahiroh manirrohim assalamualaikum wbt k...</td>\n",
       "      <td>[bismillahiroh, manirrohim, assalamualaikum, w...</td>\n",
       "    </tr>\n",
       "    <tr>\n",
       "      <th>4</th>\n",
       "      <td>perasaan saya  hari ni saya malas nak buat apa...</td>\n",
       "      <td>[perasaan, saya, hari, ni, saya, malas, nak, b...</td>\n",
       "    </tr>\n",
       "  </tbody>\n",
       "</table>\n",
       "</div>"
      ],
      "text/plain": [
       "                                              speech  \\\n",
       "0  perasaan saya tiga hari ni rasa macam penat ra...   \n",
       "1  sejujurnya saya berasa diri saya kosong saya t...   \n",
       "2  assalamualaikum saya   hari lepas eh sepanjang...   \n",
       "3  bismillahiroh manirrohim assalamualaikum wbt k...   \n",
       "4  perasaan saya  hari ni saya malas nak buat apa...   \n",
       "\n",
       "                                     speech_tokenize  \n",
       "0  [perasaan, saya, tiga, hari, ni, rasa, macam, ...  \n",
       "1  [sejujurnya, saya, berasa, diri, saya, kosong,...  \n",
       "2  [assalamualaikum, saya, hari, lepas, eh, sepan...  \n",
       "3  [bismillahiroh, manirrohim, assalamualaikum, w...  \n",
       "4  [perasaan, saya, hari, ni, saya, malas, nak, b...  "
      ]
     },
     "execution_count": 24,
     "metadata": {},
     "output_type": "execute_result"
    }
   ],
   "source": [
    "X_train['speech_tokenize'] = X_train['speech'].apply(word_tokenize)\n",
    "X_test['speech_tokenize'] = X_test['speech'].apply(word_tokenize)\n",
    "\n",
    "X_train.head()"
   ]
  },
  {
   "cell_type": "markdown",
   "id": "ee45a83d",
   "metadata": {},
   "source": [
    "### STOPWORDS"
   ]
  },
  {
   "cell_type": "code",
   "execution_count": 25,
   "id": "72a047b1",
   "metadata": {},
   "outputs": [],
   "source": [
    "# initializing Stop words libraries\n",
    "\n",
    "#nltk.download('stopwords')\n",
    "#from nltk.corpus import stopwords\n",
    "#stop_words = set(stopwords.words('english'))\n",
    "stop_words = {\"yg\",\"kita\",'yang',\"buat\",\"kadang\",\"boleh\",\"dalam\",\"jadi\",\"jangan\",\"jgn\",\"dn\",\"dan\",\n",
    "              \"bismillahiroh\",\"manirrohim\",\"wbt\",\"kod\",                   \n",
    "              \"akan\",\"dia\",\"then\",\"banyak\",\"apa\",\"okay\",\"di\",\"dah\",\"je\",\"tak\",\"tu\",\n",
    "                                \n",
    "              \"so\",\"haa\",\"dengan\",\"tak\",\"pun\",\"nak\",\"lah\",\"kan\",\"and\",\"kat\",\"untuk\",\"juga\",\"dapat\",\n",
    "                                 \n",
    "              \"lah\",\"to\",\"ynag\",\"yang\",\"ada\",\"ya\",\"saya\",\"hmm\",\"ah\",\"tu\",\"macam\",\"dan\",\"hari\",\"semua\",\n",
    "                                 \n",
    "              \"kami\",\"kalau\",\"dari\",\"lagi\",\"kerana\",\"itu\",\"ini\",\"ke\",\"snagat\",\"sangat\",\n",
    "                                 \n",
    "              \"pasal\",\"tetapi\",\"apabila\",\"ni\",\"itu\",\"seperti\",\"erm\",\"bagi\",\"contoh\",\"if\",\n",
    "                                 \n",
    "              \"ermm\",\"tapi\",\"ha\",\"sebab\",\"bila\",\"that\",\"rasa\",\"my\",\"of\",\"i\",\"from\",\"ahh\", \"agak\",\"aku\",\"the\",\n",
    "                                \n",
    "              \"benda\",\"memang\",\"still\",\"for\",\"assalamualaikum\",\"insyaAllah\",\"insyaallah\",\"nama\", \"eh\",\n",
    "                                \n",
    "              \"lepas\",\"masa\",\"orang\",\"semua\",\"balik\",\"tiga\",\"sekarang\",\"pada\",\"satu\",\"tahu\",\"daripada\",\"sampai\",\"pada\",\n",
    "                                 \n",
    "              \"diorang\",\"mungkin\",\"baru\"}"
   ]
  },
  {
   "cell_type": "code",
   "execution_count": 26,
   "id": "d9e96cf8",
   "metadata": {},
   "outputs": [],
   "source": [
    "#plotting words with highest count after removing stopwords\n",
    "import seaborn as sns\n",
    "from collections import  Counter\n",
    "\n",
    "def plot_top_non_stopwords_barchart(text):\n",
    "    stop=stop_words\n",
    "    \n",
    "    new= text.str.split()\n",
    "    new=new.values.tolist()\n",
    "    corpus=[word for i in new for word in i]\n",
    "\n",
    "    counter=Counter(corpus)\n",
    "    most=counter.most_common()\n",
    "    x, y=[], []\n",
    "    for word,count in most[:100]:\n",
    "        if (word not in stop):\n",
    "            x.append(word)\n",
    "            y.append(count)\n",
    "    plt.figure(figsize=(10,10))\n",
    "    sns.barplot(x=y,y=x)"
   ]
  },
  {
   "cell_type": "code",
   "execution_count": 27,
   "id": "9e67040f",
   "metadata": {},
   "outputs": [
    {
     "data": {
      "image/png": "[encoded data removed]",
      "text/plain": [
       "<Figure size 720x720 with 1 Axes>"
      ]
     },
     "metadata": {
      "needs_background": "light"
     },
     "output_type": "display_data"
    }
   ],
   "source": [
    "plot_top_non_stopwords_barchart(X_train['speech'])"
   ]
  },
  {
   "cell_type": "code",
   "execution_count": 29,
   "id": "8cfd90a8",
   "metadata": {},
   "outputs": [
    {
     "data": {
      "text/html": [
       "<div>\n",
       "<style scoped>\n",
       "    .dataframe tbody tr th:only-of-type {\n",
       "        vertical-align: middle;\n",
       "    }\n",
       "\n",
       "    .dataframe tbody tr th {\n",
       "        vertical-align: top;\n",
       "    }\n",
       "\n",
       "    .dataframe thead th {\n",
       "        text-align: right;\n",
       "    }\n",
       "</style>\n",
       "<table border=\"1\" class=\"dataframe\">\n",
       "  <thead>\n",
       "    <tr style=\"text-align: right;\">\n",
       "      <th></th>\n",
       "      <th>speech</th>\n",
       "      <th>speech_tokenize</th>\n",
       "      <th>speech_tokenize_join</th>\n",
       "    </tr>\n",
       "  </thead>\n",
       "  <tbody>\n",
       "    <tr>\n",
       "      <th>0</th>\n",
       "      <td>perasaan saya tiga hari ni rasa macam penat ra...</td>\n",
       "      <td>[perasaan, penat, lethargic, hopeless, helples...</td>\n",
       "      <td>perasaan penat lethargic hopeless helpless hap...</td>\n",
       "    </tr>\n",
       "    <tr>\n",
       "      <th>1</th>\n",
       "      <td>sejujurnya saya berasa diri saya kosong saya t...</td>\n",
       "      <td>[sejujurnya, berasa, diri, kosong, hala, tuju,...</td>\n",
       "      <td>sejujurnya berasa diri kosong hala tuju nampak...</td>\n",
       "    </tr>\n",
       "    <tr>\n",
       "      <th>2</th>\n",
       "      <td>assalamualaikum saya   hari lepas eh sepanjang...</td>\n",
       "      <td>[sepanjang, saat, mula, manabanyak, fikir, fik...</td>\n",
       "      <td>sepanjang saat mula manabanyak fikir fikir ker...</td>\n",
       "    </tr>\n",
       "    <tr>\n",
       "      <th>3</th>\n",
       "      <td>bismillahiroh manirrohim assalamualaikum wbt k...</td>\n",
       "      <td>[telah, mula, bekerja, setelah, beberapa, bula...</td>\n",
       "      <td>telah mula bekerja setelah beberapa bulan pkp ...</td>\n",
       "    </tr>\n",
       "    <tr>\n",
       "      <th>4</th>\n",
       "      <td>perasaan saya  hari ni saya malas nak buat apa...</td>\n",
       "      <td>[perasaan, malas, apaapa, hampir, bulan, sorry...</td>\n",
       "      <td>perasaan malas apaapa hampir bulan sorrysorry ...</td>\n",
       "    </tr>\n",
       "  </tbody>\n",
       "</table>\n",
       "</div>"
      ],
      "text/plain": [
       "                                              speech  \\\n",
       "0  perasaan saya tiga hari ni rasa macam penat ra...   \n",
       "1  sejujurnya saya berasa diri saya kosong saya t...   \n",
       "2  assalamualaikum saya   hari lepas eh sepanjang...   \n",
       "3  bismillahiroh manirrohim assalamualaikum wbt k...   \n",
       "4  perasaan saya  hari ni saya malas nak buat apa...   \n",
       "\n",
       "                                     speech_tokenize  \\\n",
       "0  [perasaan, penat, lethargic, hopeless, helples...   \n",
       "1  [sejujurnya, berasa, diri, kosong, hala, tuju,...   \n",
       "2  [sepanjang, saat, mula, manabanyak, fikir, fik...   \n",
       "3  [telah, mula, bekerja, setelah, beberapa, bula...   \n",
       "4  [perasaan, malas, apaapa, hampir, bulan, sorry...   \n",
       "\n",
       "                                speech_tokenize_join  \n",
       "0  perasaan penat lethargic hopeless helpless hap...  \n",
       "1  sejujurnya berasa diri kosong hala tuju nampak...  \n",
       "2  sepanjang saat mula manabanyak fikir fikir ker...  \n",
       "3  telah mula bekerja setelah beberapa bulan pkp ...  \n",
       "4  perasaan malas apaapa hampir bulan sorrysorry ...  "
      ]
     },
     "execution_count": 29,
     "metadata": {},
     "output_type": "execute_result"
    }
   ],
   "source": [
    "# Now we remove stopwords \n",
    "\n",
    "X_train['speech_tokenize'] = X_train['speech_tokenize'].apply(lambda x: [word for word in x if word not in stop_words])\n",
    "X_train['speech_tokenize_join'] = [' '.join(map(str, l)) for l in X_train['speech_tokenize']]\n",
    "\n",
    "X_test['speech_tokenize'] = X_test['speech_tokenize'].apply(lambda x: [word for word in x if word not in stop_words])\n",
    "X_test['speech_tokenize_join'] = [' '.join(map(str, l)) for l in X_test['speech_tokenize']]\n",
    "\n",
    "X_train.head()"
   ]
  },
  {
   "cell_type": "markdown",
   "id": "3b56937a",
   "metadata": {},
   "source": [
    "### TFIDF"
   ]
  },
  {
   "cell_type": "code",
   "execution_count": 73,
   "id": "4ecfc04a",
   "metadata": {},
   "outputs": [],
   "source": [
    "transformer = TfidfTransformer(smooth_idf=False)\n",
    "count_vectorizer = CountVectorizer(ngram_range=(1, 2))"
   ]
  },
  {
   "cell_type": "code",
   "execution_count": 97,
   "id": "489bf036",
   "metadata": {},
   "outputs": [
    {
     "data": {
      "text/plain": [
       "(104, 3)"
      ]
     },
     "execution_count": 97,
     "metadata": {},
     "output_type": "execute_result"
    }
   ],
   "source": [
    "data = pd.concat([X_train, X_test], axis=0)\n",
    "data.shape"
   ]
  },
  {
   "cell_type": "code",
   "execution_count": 99,
   "id": "5d875139",
   "metadata": {},
   "outputs": [
    {
     "data": {
      "text/plain": [
       "(104, 12659)"
      ]
     },
     "execution_count": 99,
     "metadata": {},
     "output_type": "execute_result"
    }
   ],
   "source": [
    "# fit train data to the count vectorizer\n",
    "data_counts = count_vectorizer.fit_transform(data['speech_tokenize_join'].values)\n",
    "\n",
    "#fit the ngrams count to the tfidf transformers\n",
    "data_tfidf = transformer.fit_transform(data_counts)\n",
    "\n",
    "data_tfidf.shape"
   ]
  },
  {
   "cell_type": "code",
   "execution_count": 120,
   "id": "0124ec34",
   "metadata": {},
   "outputs": [
    {
     "data": {
      "text/plain": [
       "(83, 12659)"
      ]
     },
     "execution_count": 120,
     "metadata": {},
     "output_type": "execute_result"
    }
   ],
   "source": [
    "X_train_tfidf = data_tfidf[0:83] #train 83, test 21\n",
    "X_test_tfidf = data_tfidf[83:104]\n",
    "X_train_tfidf.shape"
   ]
  },
  {
   "cell_type": "code",
   "execution_count": 126,
   "id": "76abe875",
   "metadata": {},
   "outputs": [
    {
     "name": "stdout",
     "output_type": "stream",
     "text": [
      "Accuracy of ExtraTrees classifier on train set: 1.00\n",
      "Accuracy of ExtraTrees classifier on test set: 0.57\n",
      "=== Confusion Matrix ===\n",
      "[[9 2]\n",
      " [7 3]]\n",
      "\n",
      "\n",
      "=== Classification Report ===\n",
      "              precision    recall  f1-score   support\n",
      "\n",
      "           0       0.56      0.82      0.67        11\n",
      "           1       0.60      0.30      0.40        10\n",
      "\n",
      "    accuracy                           0.57        21\n",
      "   macro avg       0.58      0.56      0.53        21\n",
      "weighted avg       0.58      0.57      0.54        21\n",
      "\n",
      "\n",
      "\n",
      "=== All AUC Scores ===\n",
      "[0.975   0.925   0.825   0.625   0.8125  0.71875 0.71875 0.875   0.75\n",
      " 0.96875]\n",
      "\n",
      "\n",
      "=== Mean AUC Score ===\n",
      "Mean AUC Score - svm:  0.819375\n",
      "Accuracy:  0.5714285714285714\n"
     ]
    }
   ],
   "source": [
    "Extr = ExtraTreesClassifier(n_estimators=5,n_jobs=4)\n",
    "Extr.fit(X_train_tfidf, y_train)\n",
    "Extr_predict = Extr.predict(X_test_tfidf)\n",
    "\n",
    "Extr_cv_score = cross_val_score(Extr, X_train_tfidf, y_train, cv=10, scoring='roc_auc')\n",
    "y_pred = Extr_predict\n",
    "print('Accuracy of ExtraTrees classifier on train set: {:.2f}'.format(Extr.score(X_train_tfidf, y_train)))\n",
    "print('Accuracy of ExtraTrees classifier on test set: {:.2f}'.format(Extr.score(X_test_tfidf, y_test)))\n",
    "\n",
    "print(\"=== Confusion Matrix ===\")\n",
    "print(confusion_matrix(y_test, Extr_predict))\n",
    "print('\\n') \n",
    "print(\"=== Classification Report ===\")\n",
    "print(classification_report(y_test, Extr_predict))\n",
    "print('\\n') \n",
    "print(\"=== All AUC Scores ===\") \n",
    "print(Extr_cv_score)\n",
    "print('\\n') \n",
    "print(\"=== Mean AUC Score ===\")\n",
    "print(\"Mean AUC Score - svm: \", Extr_cv_score.mean())\n",
    "print('Accuracy: ', accuracy_score(y_test, y_pred))"
   ]
  },
  {
   "cell_type": "code",
   "execution_count": 130,
   "id": "0d622d69",
   "metadata": {},
   "outputs": [
    {
     "name": "stdout",
     "output_type": "stream",
     "text": [
      "Accuracy of ExtraTrees classifier on train set: 1.00\n",
      "Accuracy of ExtraTrees classifier on test set: 0.62\n",
      "=== Confusion Matrix ===\n",
      "[[10  1]\n",
      " [ 7  3]]\n",
      "\n",
      "\n",
      "=== Classification Report ===\n",
      "              precision    recall  f1-score   support\n",
      "\n",
      "           0       0.59      0.91      0.71        11\n",
      "           1       0.75      0.30      0.43        10\n",
      "\n",
      "    accuracy                           0.62        21\n",
      "   macro avg       0.67      0.60      0.57        21\n",
      "weighted avg       0.67      0.62      0.58        21\n",
      "\n",
      "Accuracy:  0.6190476190476191\n"
     ]
    }
   ],
   "source": [
    "Adab = AdaBoostClassifier(DecisionTreeClassifier(max_depth=3),n_estimators=5)\n",
    "Adab.fit(X_train_tfidf, y_train)\n",
    "Adab_predict = Adab.predict(X_test_tfidf)\n",
    "\n",
    "# Adab_cv_score = cross_val_score(Adab, X_train_tfidf, y_train, cv=10, scoring='roc_auc')\n",
    "y_pred = Adab_predict\n",
    "print('Accuracy of ExtraTrees classifier on train set: {:.2f}'.format(Adab.score(X_train_tfidf, y_train)))\n",
    "print('Accuracy of ExtraTrees classifier on test set: {:.2f}'.format(Adab.score(X_test_tfidf, y_test)))\n",
    "\n",
    "print(\"=== Confusion Matrix ===\")\n",
    "print(confusion_matrix(y_test, Adab_predict))\n",
    "print('\\n') \n",
    "print(\"=== Classification Report ===\")\n",
    "print(classification_report(y_test, Adab_predict))\n",
    "# print('\\n') \n",
    "# print(\"=== All AUC Scores ===\") \n",
    "# print(Adab_cv_score)\n",
    "# print('\\n') \n",
    "# print(\"=== Mean AUC Score ===\")\n",
    "# print(\"Mean AUC Score - svm: \", Adab_cv_score.mean())\n",
    "print('Accuracy: ', accuracy_score(y_test, y_pred))"
   ]
  },
  {
   "cell_type": "code",
   "execution_count": 131,
   "id": "05fcbfe0",
   "metadata": {},
   "outputs": [
    {
     "name": "stdout",
     "output_type": "stream",
     "text": [
      "Accuracy of ExtraTrees classifier on train set: 0.98\n",
      "Accuracy of ExtraTrees classifier on test set: 0.67\n",
      "=== Confusion Matrix ===\n",
      "[[10  1]\n",
      " [ 6  4]]\n",
      "\n",
      "\n",
      "=== Classification Report ===\n",
      "              precision    recall  f1-score   support\n",
      "\n",
      "           0       0.62      0.91      0.74        11\n",
      "           1       0.80      0.40      0.53        10\n",
      "\n",
      "    accuracy                           0.67        21\n",
      "   macro avg       0.71      0.65      0.64        21\n",
      "weighted avg       0.71      0.67      0.64        21\n",
      "\n",
      "\n",
      "\n",
      "=== All AUC Scores ===\n",
      "[0.825   0.825   0.925   0.8125  0.9375  0.8125  1.      0.90625 0.65625\n",
      " 0.8125 ]\n",
      "\n",
      "\n",
      "=== Mean AUC Score ===\n",
      "Mean AUC Score - svm:  0.85125\n",
      "Accuracy:  0.6666666666666666\n"
     ]
    }
   ],
   "source": [
    "RF= RandomForestClassifier(n_estimators=5)\n",
    "RF.fit(X_train_tfidf, y_train)\n",
    "RF_predict = RF.predict(X_test_tfidf)\n",
    "\n",
    "RF_cv_score = cross_val_score(RF, X_train_tfidf, y_train, cv=10, scoring='roc_auc')\n",
    "y_pred = RF_predict\n",
    "print('Accuracy of ExtraTrees classifier on train set: {:.2f}'.format(RF.score(X_train_tfidf, y_train)))\n",
    "print('Accuracy of ExtraTrees classifier on test set: {:.2f}'.format(RF.score(X_test_tfidf, y_test)))\n",
    "\n",
    "print(\"=== Confusion Matrix ===\")\n",
    "print(confusion_matrix(y_test, RF_predict))\n",
    "print('\\n') \n",
    "print(\"=== Classification Report ===\")\n",
    "print(classification_report(y_test, RF_predict))\n",
    "print('\\n') \n",
    "print(\"=== All AUC Scores ===\") \n",
    "print(RF_cv_score)\n",
    "print('\\n') \n",
    "print(\"=== Mean AUC Score ===\")\n",
    "print(\"Mean AUC Score - svm: \", RF_cv_score.mean())\n",
    "print('Accuracy: ', accuracy_score(y_test, y_pred))"
   ]
  },
  {
   "cell_type": "code",
   "execution_count": 134,
   "id": "d06d346c",
   "metadata": {},
   "outputs": [
    {
     "name": "stdout",
     "output_type": "stream",
     "text": [
      "Accuracy of ExtraTrees classifier on train set: 1.00\n",
      "Accuracy of ExtraTrees classifier on test set: 0.95\n",
      "=== Confusion Matrix ===\n",
      "[[11  0]\n",
      " [ 1  9]]\n",
      "\n",
      "\n",
      "=== Classification Report ===\n",
      "              precision    recall  f1-score   support\n",
      "\n",
      "           0       0.92      1.00      0.96        11\n",
      "           1       1.00      0.90      0.95        10\n",
      "\n",
      "    accuracy                           0.95        21\n",
      "   macro avg       0.96      0.95      0.95        21\n",
      "weighted avg       0.96      0.95      0.95        21\n",
      "\n",
      "\n",
      "\n",
      "=== All AUC Scores ===\n",
      "[0.9    0.95   1.     1.     1.     1.     1.     1.     0.9375 0.8125]\n",
      "\n",
      "\n",
      "=== Mean AUC Score ===\n",
      "Mean AUC Score - svm:  0.96\n",
      "Accuracy:  0.9523809523809523\n"
     ]
    }
   ],
   "source": [
    "NB = MultinomialNB()\n",
    "NB.fit(X_train_tfidf, y_train)\n",
    "NB_predict = NB.predict(X_test_tfidf)\n",
    "\n",
    "NB_cv_score = cross_val_score(NB, X_train_tfidf, y_train, cv=10, scoring='roc_auc')\n",
    "y_pred = NB_predict\n",
    "print('Accuracy of ExtraTrees classifier on train set: {:.2f}'.format(NB.score(X_train_tfidf, y_train)))\n",
    "print('Accuracy of ExtraTrees classifier on test set: {:.2f}'.format(NB.score(X_test_tfidf, y_test)))\n",
    "\n",
    "print(\"=== Confusion Matrix ===\")\n",
    "print(confusion_matrix(y_test, NB_predict))\n",
    "print('\\n') \n",
    "print(\"=== Classification Report ===\")\n",
    "print(classification_report(y_test, NB_predict))\n",
    "print('\\n') \n",
    "print(\"=== All AUC Scores ===\") \n",
    "print(NB_cv_score)\n",
    "print('\\n') \n",
    "print(\"=== Mean AUC Score ===\")\n",
    "print(\"Mean AUC Score - svm: \", NB_cv_score.mean())\n",
    "print('Accuracy: ', accuracy_score(y_test, y_pred))"
   ]
  },
  {
   "cell_type": "code",
   "execution_count": 136,
   "id": "a83e6ec1",
   "metadata": {},
   "outputs": [
    {
     "name": "stdout",
     "output_type": "stream",
     "text": [
      "Accuracy of ExtraTrees classifier on train set: 1.00\n",
      "Accuracy of ExtraTrees classifier on test set: 0.86\n",
      "=== Confusion Matrix ===\n",
      "[[11  0]\n",
      " [ 3  7]]\n",
      "\n",
      "\n",
      "=== Classification Report ===\n",
      "              precision    recall  f1-score   support\n",
      "\n",
      "           0       0.79      1.00      0.88        11\n",
      "           1       1.00      0.70      0.82        10\n",
      "\n",
      "    accuracy                           0.86        21\n",
      "   macro avg       0.89      0.85      0.85        21\n",
      "weighted avg       0.89      0.86      0.85        21\n",
      "\n",
      "\n",
      "\n",
      "=== All AUC Scores ===\n",
      "[0.8    0.95   1.     1.     1.     1.     1.     1.     0.9375 0.8125]\n",
      "\n",
      "\n",
      "=== Mean AUC Score ===\n",
      "Mean AUC Score - svm:  0.95\n",
      "Accuracy:  0.8571428571428571\n"
     ]
    }
   ],
   "source": [
    "lr = LogisticRegression(C=1e5)\n",
    "lr.fit(X_train_tfidf, y_train)\n",
    "lr_predict = lr.predict(X_test_tfidf)\n",
    "\n",
    "lr_cv_score = cross_val_score(lr, X_train_tfidf, y_train, cv=10, scoring='roc_auc')\n",
    "y_pred = lr_predict\n",
    "print('Accuracy of ExtraTrees classifier on train set: {:.2f}'.format(lr.score(X_train_tfidf, y_train)))\n",
    "print('Accuracy of ExtraTrees classifier on test set: {:.2f}'.format(lr.score(X_test_tfidf, y_test)))\n",
    "\n",
    "print(\"=== Confusion Matrix ===\")\n",
    "print(confusion_matrix(y_test, lr_predict))\n",
    "print('\\n') \n",
    "print(\"=== Classification Report ===\")\n",
    "print(classification_report(y_test, lr_predict))\n",
    "print('\\n') \n",
    "print(\"=== All AUC Scores ===\") \n",
    "print(lr_cv_score)\n",
    "print('\\n') \n",
    "print(\"=== Mean AUC Score ===\")\n",
    "print(\"Mean AUC Score - svm: \", lr_cv_score.mean())\n",
    "print('Accuracy: ', accuracy_score(y_test, y_pred))"
   ]
  },
  {
   "cell_type": "code",
   "execution_count": 152,
   "id": "76ca419c",
   "metadata": {},
   "outputs": [
    {
     "data": {
      "image/png": "[encoded data removed]",
      "text/plain": [
       "<Figure size 648x648 with 2 Axes>"
      ]
     },
     "metadata": {
      "needs_background": "light"
     },
     "output_type": "display_data"
    }
   ],
   "source": [
    "from sklearn import metrics\n",
    "\n",
    "score = accuracy_score(y_test, y_pred)\n",
    "\n",
    "plt.figure(figsize=(9,9))\n",
    "sns.heatmap(CM, annot=True, linewidths=.5, square = True, cmap = 'Blues_r');\n",
    "plt.ylabel('Actual label');\n",
    "plt.xlabel('Predicted label');\n",
    "all_sample_title = 'Accuracy Score: {0}'.format(score)\n",
    "plt.title(all_sample_title, size = 15);\n",
    "plt.rcParams.update({'font.size': 20})"
   ]
  },
  {
   "cell_type": "code",
   "execution_count": null,
   "id": "0cc3e89d",
   "metadata": {},
   "outputs": [],
   "source": []
  }
 ],
 "metadata": {
  "kernelspec": {
   "display_name": "Python 3",
   "language": "python",
   "name": "python3"
  },
  "language_info": {
   "codemirror_mode": {
    "name": "ipython",
    "version": 3
   },
   "file_extension": ".py",
   "mimetype": "text/x-python",
   "name": "python",
   "nbconvert_exporter": "python",
   "pygments_lexer": "ipython3",
   "version": "3.8.10"
  }
 },
 "nbformat": 4,
 "nbformat_minor": 5
}
